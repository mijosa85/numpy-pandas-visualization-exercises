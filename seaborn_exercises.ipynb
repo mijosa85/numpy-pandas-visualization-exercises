{
 "cells": [
  {
   "cell_type": "code",
   "execution_count": null,
   "id": "27530f01",
   "metadata": {},
   "outputs": [],
   "source": [
    "from pydataset import data\n",
    "import numpy as np\n",
    "import pandas as pd\n",
    "import matplotlib.pyplot as plt\n",
    "\n",
    "import seaborn as sns"
   ]
  },
  {
   "cell_type": "code",
   "execution_count": null,
   "id": "be5ccf71",
   "metadata": {},
   "outputs": [],
   "source": [
    "iris = data('iris')"
   ]
  },
  {
   "cell_type": "code",
   "execution_count": null,
   "id": "dca2c302",
   "metadata": {
    "scrolled": true
   },
   "outputs": [],
   "source": [
    "iris.head()"
   ]
  },
  {
   "cell_type": "code",
   "execution_count": null,
   "id": "90579196",
   "metadata": {},
   "outputs": [],
   "source": [
    "sns.displot(iris['Petal.Length'], kde = True)"
   ]
  },
  {
   "cell_type": "code",
   "execution_count": null,
   "id": "679fcd4b",
   "metadata": {
    "scrolled": true
   },
   "outputs": [],
   "source": [
    "sns.lmplot(x='Petal.Width',\n",
    "          y='Petal.Length',\n",
    "          data=iris)"
   ]
  },
  {
   "cell_type": "code",
   "execution_count": null,
   "id": "1d8674a1",
   "metadata": {},
   "outputs": [],
   "source": [
    "sns.jointplot(data = iris, x = \"Sepal.Length\", y = \"Sepal.Width\", hue = \"Species\")"
   ]
  },
  {
   "cell_type": "code",
   "execution_count": null,
   "id": "5c9a3b3d",
   "metadata": {},
   "outputs": [],
   "source": [
    "sns.pairplot(iris, hue='Species')"
   ]
  },
  {
   "cell_type": "code",
   "execution_count": null,
   "id": "6cae944b",
   "metadata": {},
   "outputs": [],
   "source": [
    "anscombe = sns.load_dataset('anscombe')"
   ]
  },
  {
   "cell_type": "code",
   "execution_count": null,
   "id": "4ee9c1c0",
   "metadata": {},
   "outputs": [],
   "source": [
    "anscombe.head(10)"
   ]
  },
  {
   "cell_type": "code",
   "execution_count": null,
   "id": "5b9b832d",
   "metadata": {},
   "outputs": [],
   "source": [
    "anscombe.groupby(by = 'dataset').describe()"
   ]
  },
  {
   "cell_type": "code",
   "execution_count": null,
   "id": "638318ed",
   "metadata": {},
   "outputs": [],
   "source": [
    "sns.relplot(x = 'x', y = 'y', col = 'dataset', data = anscombe)"
   ]
  },
  {
   "cell_type": "code",
   "execution_count": null,
   "id": "0a2b1b9f",
   "metadata": {},
   "outputs": [],
   "source": [
    "isprays = data('InsectSprays')\n",
    "data('InsectSprays', show_doc = True)"
   ]
  },
  {
   "cell_type": "code",
   "execution_count": null,
   "id": "29848cd4",
   "metadata": {},
   "outputs": [],
   "source": [
    "isprays.groupby(by = 'spray').describe()"
   ]
  },
  {
   "cell_type": "code",
   "execution_count": null,
   "id": "1391fc58",
   "metadata": {},
   "outputs": [],
   "source": [
    "sprays = isprays.groupby(by ='spray')"
   ]
  },
  {
   "cell_type": "code",
   "execution_count": null,
   "id": "7c351096",
   "metadata": {},
   "outputs": [],
   "source": [
    "sns.boxplot(data = isprays, x = 'spray', y = 'count')"
   ]
  },
  {
   "cell_type": "code",
   "execution_count": null,
   "id": "608a670f",
   "metadata": {},
   "outputs": [],
   "source": [
    "swiss = data('swiss')\n",
    "swiss.head()"
   ]
  },
  {
   "cell_type": "code",
   "execution_count": null,
   "id": "61d08b6c",
   "metadata": {},
   "outputs": [],
   "source": [
    "swiss['is_catholic'] = swiss.Catholic >= 50"
   ]
  },
  {
   "cell_type": "code",
   "execution_count": null,
   "id": "f0109f60",
   "metadata": {
    "scrolled": true
   },
   "outputs": [],
   "source": [
    "sns.relplot(x = 'Catholic', y = 'Fertility', data = swiss)"
   ]
  },
  {
   "cell_type": "code",
   "execution_count": null,
   "id": "90640d5c",
   "metadata": {
    "scrolled": true
   },
   "outputs": [],
   "source": [
    "sns.boxplot(x = 'is_catholic', y = 'Fertility', data = swiss)"
   ]
  },
  {
   "cell_type": "code",
   "execution_count": null,
   "id": "5e9c1549",
   "metadata": {},
   "outputs": [],
   "source": [
    "swiss.corr().Fertility"
   ]
  },
  {
   "cell_type": "code",
   "execution_count": null,
   "id": "3bcf4e89",
   "metadata": {},
   "outputs": [],
   "source": [
    "def get_db_url(db):\n",
    "    from env import user, pw, host\n",
    "    return f'mysql+pymysql://{user}:{pw}@{host}/{db}'"
   ]
  },
  {
   "cell_type": "code",
   "execution_count": null,
   "id": "9852d7b9",
   "metadata": {},
   "outputs": [],
   "source": [
    "url = get_db_url('chipotle')\n",
    "query = 'SELECT * FROM orders'\n",
    "orders = pd.read_sql(query, url)\n",
    "orders.head()"
   ]
  },
  {
   "cell_type": "code",
   "execution_count": null,
   "id": "18a6b17a",
   "metadata": {},
   "outputs": [],
   "source": [
    "orders.info()"
   ]
  },
  {
   "cell_type": "code",
   "execution_count": null,
   "id": "3a126e83",
   "metadata": {},
   "outputs": [],
   "source": [
    "orders['item_price'] = orders.item_price.str.replace('$','').astype('float')"
   ]
  },
  {
   "cell_type": "code",
   "execution_count": null,
   "id": "b1b260ae",
   "metadata": {},
   "outputs": [],
   "source": [
    "orders.head()"
   ]
  },
  {
   "cell_type": "code",
   "execution_count": null,
   "id": "c75af2cd",
   "metadata": {},
   "outputs": [],
   "source": [
    "best_sellers = orders.groupby('item_name').quantity.sum().nlargest(4)\n",
    "best_sellers"
   ]
  },
  {
   "cell_type": "code",
   "execution_count": null,
   "id": "6582b170",
   "metadata": {},
   "outputs": [],
   "source": [
    "bool_mask = orders.item_name.isin(best_sellers.index)\n",
    "revenue = orders[bool_mask].groupby('item_name').item_price.sum()\n",
    "revenue = revenue.sort_values(ascending = False).reset_index()"
   ]
  },
  {
   "cell_type": "code",
   "execution_count": null,
   "id": "c400ffb5",
   "metadata": {},
   "outputs": [],
   "source": [
    "plt.figure(figsize = (9, 5))\n",
    "sns.barplot(y = 'item_name', x = 'item_price', data = revenue)\n",
    "plt.title(\"Most popular items & revenue\")\n",
    "plt.ylabel(\"\")\n",
    "plt.xlabel(\"Revenue\")"
   ]
  },
  {
   "cell_type": "code",
   "execution_count": null,
   "id": "ff6180d1",
   "metadata": {},
   "outputs": [],
   "source": [
    "sleepstudy = data('sleepstudy')\n",
    "sleepstudy['Subject'] = 'Subject_' + sleepstudy.Subject.astype(str)\n",
    "sleepstudy.head()"
   ]
  },
  {
   "cell_type": "code",
   "execution_count": null,
   "id": "f534ba83",
   "metadata": {},
   "outputs": [],
   "source": [
    "plt.figure(figsize = (18, 9))\n",
    "sns.lineplot(data = sleepstudy, x = 'Days', y = 'Reaction', hue = 'Subject')"
   ]
  },
  {
   "cell_type": "code",
   "execution_count": null,
   "id": "f83747f7",
   "metadata": {},
   "outputs": [],
   "source": []
  }
 ],
 "metadata": {
  "kernelspec": {
   "display_name": "Python 3",
   "language": "python",
   "name": "python3"
  },
  "language_info": {
   "codemirror_mode": {
    "name": "ipython",
    "version": 3
   },
   "file_extension": ".py",
   "mimetype": "text/x-python",
   "name": "python",
   "nbconvert_exporter": "python",
   "pygments_lexer": "ipython3",
   "version": "3.8.8"
  }
 },
 "nbformat": 4,
 "nbformat_minor": 5
}
